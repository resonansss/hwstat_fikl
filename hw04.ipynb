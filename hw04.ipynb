{
 "cells": [
  {
   "cell_type": "code",
   "execution_count": 1,
   "metadata": {},
   "outputs": [],
   "source": [
    "import pandas as pd\n",
    "import numpy as np\n",
    "import seaborn as sns\n",
    "import matplotlib.pyplot as plt"
   ]
  },
  {
   "cell_type": "code",
   "execution_count": 2,
   "metadata": {},
   "outputs": [
    {
     "data": {
      "text/html": [
       "<div>\n",
       "<style scoped>\n",
       "    .dataframe tbody tr th:only-of-type {\n",
       "        vertical-align: middle;\n",
       "    }\n",
       "\n",
       "    .dataframe tbody tr th {\n",
       "        vertical-align: top;\n",
       "    }\n",
       "\n",
       "    .dataframe thead th {\n",
       "        text-align: right;\n",
       "    }\n",
       "</style>\n",
       "<table border=\"1\" class=\"dataframe\">\n",
       "  <thead>\n",
       "    <tr style=\"text-align: right;\">\n",
       "      <th></th>\n",
       "      <th>Item</th>\n",
       "      <th>Type</th>\n",
       "      <th>Group</th>\n",
       "      <th>Element</th>\n",
       "      <th>Controller</th>\n",
       "      <th>Word Number</th>\n",
       "      <th>Text</th>\n",
       "      <th>Sheet</th>\n",
       "      <th>Date Time</th>\n",
       "      <th>Timestamp</th>\n",
       "      <th>Device Id</th>\n",
       "      <th>Answer</th>\n",
       "      <th>Time Spent</th>\n",
       "      <th>Is Correct</th>\n",
       "      <th>Z-Score</th>\n",
       "      <th>Factor1</th>\n",
       "      <th>Factor2</th>\n",
       "      <th>Factor3</th>\n",
       "    </tr>\n",
       "  </thead>\n",
       "  <tbody>\n",
       "    <tr>\n",
       "      <th>0</th>\n",
       "      <td>11</td>\n",
       "      <td>stimul1_light_think_0</td>\n",
       "      <td>1</td>\n",
       "      <td>0</td>\n",
       "      <td>AcceptabilityJudgment</td>\n",
       "      <td>NaN</td>\n",
       "      <td>Дина думает, что Сева испачкал штаны.</td>\n",
       "      <td>0</td>\n",
       "      <td>25.05.2020 11:52</td>\n",
       "      <td>1590396746</td>\n",
       "      <td>588f4a3118f5ad5ae57d710af9510160</td>\n",
       "      <td>6.0</td>\n",
       "      <td>4564</td>\n",
       "      <td>NaN</td>\n",
       "      <td>0.764719</td>\n",
       "      <td>light</td>\n",
       "      <td>think</td>\n",
       "      <td>0.0</td>\n",
       "    </tr>\n",
       "    <tr>\n",
       "      <th>1</th>\n",
       "      <td>18</td>\n",
       "      <td>stimul1_light_say_1</td>\n",
       "      <td>2</td>\n",
       "      <td>0</td>\n",
       "      <td>AcceptabilityJudgment</td>\n",
       "      <td>NaN</td>\n",
       "      <td>Что Паша говорит, что Вера нашла?</td>\n",
       "      <td>0</td>\n",
       "      <td>25.05.2020 11:52</td>\n",
       "      <td>1590396746</td>\n",
       "      <td>588f4a3118f5ad5ae57d710af9510160</td>\n",
       "      <td>3.0</td>\n",
       "      <td>2405</td>\n",
       "      <td>NaN</td>\n",
       "      <td>-0.611775</td>\n",
       "      <td>light</td>\n",
       "      <td>say</td>\n",
       "      <td>1.0</td>\n",
       "    </tr>\n",
       "    <tr>\n",
       "      <th>2</th>\n",
       "      <td>25</td>\n",
       "      <td>stimul1_say_whisper_0</td>\n",
       "      <td>3</td>\n",
       "      <td>0</td>\n",
       "      <td>AcceptabilityJudgment</td>\n",
       "      <td>NaN</td>\n",
       "      <td>Митя шепчет, что Даша купила яблоки.</td>\n",
       "      <td>0</td>\n",
       "      <td>25.05.2020 11:52</td>\n",
       "      <td>1590396746</td>\n",
       "      <td>588f4a3118f5ad5ae57d710af9510160</td>\n",
       "      <td>3.0</td>\n",
       "      <td>3805</td>\n",
       "      <td>NaN</td>\n",
       "      <td>-0.611775</td>\n",
       "      <td>say</td>\n",
       "      <td>whisper</td>\n",
       "      <td>0.0</td>\n",
       "    </tr>\n",
       "    <tr>\n",
       "      <th>3</th>\n",
       "      <td>32</td>\n",
       "      <td>stimul1_say_babble_1</td>\n",
       "      <td>4</td>\n",
       "      <td>0</td>\n",
       "      <td>AcceptabilityJudgment</td>\n",
       "      <td>NaN</td>\n",
       "      <td>Что Федя лепечет, что Тоня продала?</td>\n",
       "      <td>0</td>\n",
       "      <td>25.05.2020 11:52</td>\n",
       "      <td>1590396746</td>\n",
       "      <td>588f4a3118f5ad5ae57d710af9510160</td>\n",
       "      <td>1.0</td>\n",
       "      <td>2424</td>\n",
       "      <td>NaN</td>\n",
       "      <td>-1.529438</td>\n",
       "      <td>say</td>\n",
       "      <td>babble</td>\n",
       "      <td>1.0</td>\n",
       "    </tr>\n",
       "    <tr>\n",
       "      <th>4</th>\n",
       "      <td>39</td>\n",
       "      <td>stimul1_factive_regret_0</td>\n",
       "      <td>5</td>\n",
       "      <td>0</td>\n",
       "      <td>AcceptabilityJudgment</td>\n",
       "      <td>NaN</td>\n",
       "      <td>Валя сожалеет, что Вова выпил молоко.</td>\n",
       "      <td>0</td>\n",
       "      <td>25.05.2020 11:52</td>\n",
       "      <td>1590396746</td>\n",
       "      <td>588f4a3118f5ad5ae57d710af9510160</td>\n",
       "      <td>6.0</td>\n",
       "      <td>6081</td>\n",
       "      <td>NaN</td>\n",
       "      <td>0.764719</td>\n",
       "      <td>factive</td>\n",
       "      <td>regret</td>\n",
       "      <td>0.0</td>\n",
       "    </tr>\n",
       "  </tbody>\n",
       "</table>\n",
       "</div>"
      ],
      "text/plain": [
       "   Item                      Type  Group  Element             Controller  \\\n",
       "0    11     stimul1_light_think_0      1        0  AcceptabilityJudgment   \n",
       "1    18       stimul1_light_say_1      2        0  AcceptabilityJudgment   \n",
       "2    25     stimul1_say_whisper_0      3        0  AcceptabilityJudgment   \n",
       "3    32      stimul1_say_babble_1      4        0  AcceptabilityJudgment   \n",
       "4    39  stimul1_factive_regret_0      5        0  AcceptabilityJudgment   \n",
       "\n",
       "   Word Number                                   Text  Sheet  \\\n",
       "0          NaN  Дина думает, что Сева испачкал штаны.      0   \n",
       "1          NaN      Что Паша говорит, что Вера нашла?      0   \n",
       "2          NaN   Митя шепчет, что Даша купила яблоки.      0   \n",
       "3          NaN    Что Федя лепечет, что Тоня продала?      0   \n",
       "4          NaN  Валя сожалеет, что Вова выпил молоко.      0   \n",
       "\n",
       "          Date Time   Timestamp                         Device Id  Answer  \\\n",
       "0  25.05.2020 11:52  1590396746  588f4a3118f5ad5ae57d710af9510160     6.0   \n",
       "1  25.05.2020 11:52  1590396746  588f4a3118f5ad5ae57d710af9510160     3.0   \n",
       "2  25.05.2020 11:52  1590396746  588f4a3118f5ad5ae57d710af9510160     3.0   \n",
       "3  25.05.2020 11:52  1590396746  588f4a3118f5ad5ae57d710af9510160     1.0   \n",
       "4  25.05.2020 11:52  1590396746  588f4a3118f5ad5ae57d710af9510160     6.0   \n",
       "\n",
       "   Time Spent  Is Correct   Z-Score  Factor1  Factor2  Factor3  \n",
       "0        4564         NaN  0.764719    light    think      0.0  \n",
       "1        2405         NaN -0.611775    light      say      1.0  \n",
       "2        3805         NaN -0.611775      say  whisper      0.0  \n",
       "3        2424         NaN -1.529438      say   babble      1.0  \n",
       "4        6081         NaN  0.764719  factive   regret      0.0  "
      ]
     },
     "execution_count": 2,
     "metadata": {},
     "output_type": "execute_result"
    }
   ],
   "source": [
    "data = pd.read_csv(r\"C:\\Users\\Maria\\Desktop\\Программирование_3 сем\\math\\data_hw4.csv\")\n",
    "data.head()"
   ]
  },
  {
   "cell_type": "code",
   "execution_count": 3,
   "metadata": {},
   "outputs": [
    {
     "name": "stdout",
     "output_type": "stream",
     "text": [
      "<class 'pandas.core.frame.DataFrame'>\n",
      "RangeIndex: 23328 entries, 0 to 23327\n",
      "Data columns (total 18 columns):\n",
      " #   Column       Non-Null Count  Dtype  \n",
      "---  ------       --------------  -----  \n",
      " 0   Item         23328 non-null  int64  \n",
      " 1   Type         23328 non-null  object \n",
      " 2   Group        23328 non-null  int64  \n",
      " 3   Element      23328 non-null  int64  \n",
      " 4   Controller   23328 non-null  object \n",
      " 5   Word Number  0 non-null      float64\n",
      " 6   Text         23328 non-null  object \n",
      " 7   Sheet        23328 non-null  int64  \n",
      " 8   Date Time    23328 non-null  object \n",
      " 9   Timestamp    23328 non-null  int64  \n",
      " 10  Device Id    23328 non-null  object \n",
      " 11  Answer       22876 non-null  float64\n",
      " 12  Time Spent   23328 non-null  int64  \n",
      " 13  Is Correct   0 non-null      float64\n",
      " 14  Z-Score      22876 non-null  float64\n",
      " 15  Factor1      23328 non-null  object \n",
      " 16  Factor2      11664 non-null  object \n",
      " 17  Factor3      11664 non-null  float64\n",
      "dtypes: float64(5), int64(6), object(7)\n",
      "memory usage: 3.2+ MB\n"
     ]
    }
   ],
   "source": [
    "data.info()"
   ]
  },
  {
   "cell_type": "code",
   "execution_count": 7,
   "metadata": {},
   "outputs": [],
   "source": [
    "data.drop(columns = ['Item', 'Type', 'Group', 'Element', 'Controller', \n",
    "'Word Number', 'Text', 'Sheet', 'Date Time', 'Timestamp', 'Device Id', \n",
    "'Time Spent', 'Is Correct', 'Factor1', 'Factor2', 'Factor3'], axis = 1, inplace = True)"
   ]
  },
  {
   "cell_type": "code",
   "execution_count": 8,
   "metadata": {},
   "outputs": [
    {
     "name": "stdout",
     "output_type": "stream",
     "text": [
      "<class 'pandas.core.frame.DataFrame'>\n",
      "RangeIndex: 23328 entries, 0 to 23327\n",
      "Data columns (total 2 columns):\n",
      " #   Column   Non-Null Count  Dtype  \n",
      "---  ------   --------------  -----  \n",
      " 0   Answer   22876 non-null  float64\n",
      " 1   Z-Score  22876 non-null  float64\n",
      "dtypes: float64(2)\n",
      "memory usage: 364.6 KB\n"
     ]
    }
   ],
   "source": [
    "data.info()"
   ]
  },
  {
   "cell_type": "code",
   "execution_count": 11,
   "metadata": {},
   "outputs": [],
   "source": [
    "data = data.dropna()"
   ]
  },
  {
   "cell_type": "code",
   "execution_count": 15,
   "metadata": {},
   "outputs": [
    {
     "data": {
      "text/html": [
       "<div>\n",
       "<style scoped>\n",
       "    .dataframe tbody tr th:only-of-type {\n",
       "        vertical-align: middle;\n",
       "    }\n",
       "\n",
       "    .dataframe tbody tr th {\n",
       "        vertical-align: top;\n",
       "    }\n",
       "\n",
       "    .dataframe thead th {\n",
       "        text-align: right;\n",
       "    }\n",
       "</style>\n",
       "<table border=\"1\" class=\"dataframe\">\n",
       "  <thead>\n",
       "    <tr style=\"text-align: right;\">\n",
       "      <th></th>\n",
       "      <th>Answer</th>\n",
       "      <th>Z-Score</th>\n",
       "    </tr>\n",
       "  </thead>\n",
       "  <tbody>\n",
       "    <tr>\n",
       "      <th>count</th>\n",
       "      <td>22876.000000</td>\n",
       "      <td>22876.000000</td>\n",
       "    </tr>\n",
       "    <tr>\n",
       "      <th>mean</th>\n",
       "      <td>4.457291</td>\n",
       "      <td>-0.049564</td>\n",
       "    </tr>\n",
       "    <tr>\n",
       "      <th>std</th>\n",
       "      <td>2.373858</td>\n",
       "      <td>1.044843</td>\n",
       "    </tr>\n",
       "    <tr>\n",
       "      <th>min</th>\n",
       "      <td>1.000000</td>\n",
       "      <td>-3.607001</td>\n",
       "    </tr>\n",
       "    <tr>\n",
       "      <th>25%</th>\n",
       "      <td>2.000000</td>\n",
       "      <td>-1.076667</td>\n",
       "    </tr>\n",
       "    <tr>\n",
       "      <th>50%</th>\n",
       "      <td>5.000000</td>\n",
       "      <td>0.119315</td>\n",
       "    </tr>\n",
       "    <tr>\n",
       "      <th>75%</th>\n",
       "      <td>7.000000</td>\n",
       "      <td>0.951117</td>\n",
       "    </tr>\n",
       "    <tr>\n",
       "      <th>max</th>\n",
       "      <td>7.000000</td>\n",
       "      <td>2.073399</td>\n",
       "    </tr>\n",
       "  </tbody>\n",
       "</table>\n",
       "</div>"
      ],
      "text/plain": [
       "             Answer       Z-Score\n",
       "count  22876.000000  22876.000000\n",
       "mean       4.457291     -0.049564\n",
       "std        2.373858      1.044843\n",
       "min        1.000000     -3.607001\n",
       "25%        2.000000     -1.076667\n",
       "50%        5.000000      0.119315\n",
       "75%        7.000000      0.951117\n",
       "max        7.000000      2.073399"
      ]
     },
     "execution_count": 15,
     "metadata": {},
     "output_type": "execute_result"
    }
   ],
   "source": [
    "#можно так\n",
    "data.describe()"
   ]
  },
  {
   "cell_type": "code",
   "execution_count": 19,
   "metadata": {},
   "outputs": [
    {
     "data": {
      "text/plain": [
       "Answer     4.457291\n",
       "Z-Score   -0.049564\n",
       "dtype: float64"
      ]
     },
     "execution_count": 19,
     "metadata": {},
     "output_type": "execute_result"
    }
   ],
   "source": [
    "#или так\n",
    "#среднее\n",
    "data.mean()"
   ]
  },
  {
   "cell_type": "code",
   "execution_count": 18,
   "metadata": {},
   "outputs": [
    {
     "data": {
      "text/plain": [
       "Answer     2.373858\n",
       "Z-Score    1.044843\n",
       "dtype: float64"
      ]
     },
     "execution_count": 18,
     "metadata": {},
     "output_type": "execute_result"
    }
   ],
   "source": [
    "#стандартное отклонение\n",
    "data.std()"
   ]
  },
  {
   "cell_type": "code",
   "execution_count": 47,
   "metadata": {},
   "outputs": [
    {
     "data": {
      "text/plain": [
       "array([[<Axes: title={'center': 'Answer'}>]], dtype=object)"
      ]
     },
     "execution_count": 47,
     "metadata": {},
     "output_type": "execute_result"
    },
    {
     "data": {
      "image/png": "[encoded data removed]",
      "text/plain": [
       "<Figure size 640x480 with 1 Axes>"
      ]
     },
     "metadata": {},
     "output_type": "display_data"
    }
   ],
   "source": [
    "data.hist(column = 'Answer', bins= 7, grid = False, rwidth = 0.9, color = 'lightblue', ec = 'red')"
   ]
  },
  {
   "cell_type": "code",
   "execution_count": 53,
   "metadata": {},
   "outputs": [
    {
     "data": {
      "text/plain": [
       "array([[<Axes: title={'center': 'Z-Score'}>]], dtype=object)"
      ]
     },
     "execution_count": 53,
     "metadata": {},
     "output_type": "execute_result"
    },
    {
     "data": {
      "image/png": "[encoded data removed]",
      "text/plain": [
       "<Figure size 640x480 with 1 Axes>"
      ]
     },
     "metadata": {},
     "output_type": "display_data"
    }
   ],
   "source": [
    "data.hist(column = 'Z-Score', bins= 50, grid = False, rwidth = 0.9, color = 'lightgreen', ec = 'red')"
   ]
  },
  {
   "cell_type": "code",
   "execution_count": 55,
   "metadata": {},
   "outputs": [
    {
     "data": {
      "text/plain": [
       "0.9580509425380382"
      ]
     },
     "execution_count": 55,
     "metadata": {},
     "output_type": "execute_result"
    }
   ],
   "source": [
    "#просто корреляция\n",
    "cor = data['Answer'].corr(data['Z-Score'])\n",
    "cor"
   ]
  },
  {
   "cell_type": "code",
   "execution_count": 72,
   "metadata": {},
   "outputs": [
    {
     "data": {
      "image/png": "[encoded data removed]",
      "text/plain": [
       "<Figure size 640x480 with 1 Axes>"
      ]
     },
     "metadata": {},
     "output_type": "display_data"
    }
   ],
   "source": [
    "def cor_1(data):\n",
    "    data1 = data\n",
    "    xs = data1['Answer']\n",
    "    ys = data1['Z-Score'].apply(np.log)\n",
    "    pd.DataFrame(np.array([xs,ys]).T).plot.scatter(0, 1, s = 100, grid = True)\n",
    "    plt.xlabel('Answer')\n",
    "    plt.ylabel('Z-Score')\n",
    "    plt.show()\n",
    "\n",
    "cor_1(data)"
   ]
  },
  {
   "cell_type": "code",
   "execution_count": 65,
   "metadata": {},
   "outputs": [
    {
     "data": {
      "text/plain": [
       "PearsonRResult(statistic=0.958050942538043, pvalue=0.0)"
      ]
     },
     "execution_count": 65,
     "metadata": {},
     "output_type": "execute_result"
    }
   ],
   "source": [
    "from scipy.stats import pearsonr\n",
    "pearsonr(data['Answer'], data['Z-Score'])\n",
    "\n",
    "# p < 0,05, корреляция между столбцами статистически значимая"
   ]
  },
  {
   "cell_type": "code",
   "execution_count": 76,
   "metadata": {},
   "outputs": [],
   "source": [
    "import statsmodels.api as sm\n",
    "x = data['Answer']\n",
    "y = data['Z-Score']\n",
    "x = sm.add_constant(x)\n",
    "model = sm.OLS(y, x).fit()"
   ]
  },
  {
   "cell_type": "code",
   "execution_count": 77,
   "metadata": {},
   "outputs": [
    {
     "data": {
      "text/html": [
       "<table class=\"simpletable\">\n",
       "<caption>OLS Regression Results</caption>\n",
       "<tr>\n",
       "  <th>Dep. Variable:</th>         <td>Z-Score</td>     <th>  R-squared:         </th> <td>   0.918</td> \n",
       "</tr>\n",
       "<tr>\n",
       "  <th>Model:</th>                   <td>OLS</td>       <th>  Adj. R-squared:    </th> <td>   0.918</td> \n",
       "</tr>\n",
       "<tr>\n",
       "  <th>Method:</th>             <td>Least Squares</td>  <th>  F-statistic:       </th> <td>2.556e+05</td>\n",
       "</tr>\n",
       "<tr>\n",
       "  <th>Date:</th>             <td>Mon, 04 Dec 2023</td> <th>  Prob (F-statistic):</th>  <td>  0.00</td>  \n",
       "</tr>\n",
       "<tr>\n",
       "  <th>Time:</th>                 <td>23:17:05</td>     <th>  Log-Likelihood:    </th> <td> -4875.1</td> \n",
       "</tr>\n",
       "<tr>\n",
       "  <th>No. Observations:</th>      <td> 22876</td>      <th>  AIC:               </th> <td>   9754.</td> \n",
       "</tr>\n",
       "<tr>\n",
       "  <th>Df Residuals:</th>          <td> 22874</td>      <th>  BIC:               </th> <td>   9770.</td> \n",
       "</tr>\n",
       "<tr>\n",
       "  <th>Df Model:</th>              <td>     1</td>      <th>                     </th>     <td> </td>    \n",
       "</tr>\n",
       "<tr>\n",
       "  <th>Covariance Type:</th>      <td>nonrobust</td>    <th>                     </th>     <td> </td>    \n",
       "</tr>\n",
       "</table>\n",
       "<table class=\"simpletable\">\n",
       "<tr>\n",
       "     <td></td>       <th>coef</th>     <th>std err</th>      <th>t</th>      <th>P>|t|</th>  <th>[0.025</th>    <th>0.975]</th>  \n",
       "</tr>\n",
       "<tr>\n",
       "  <th>const</th>  <td>   -1.9291</td> <td>    0.004</td> <td> -458.006</td> <td> 0.000</td> <td>   -1.937</td> <td>   -1.921</td>\n",
       "</tr>\n",
       "<tr>\n",
       "  <th>Answer</th> <td>    0.4217</td> <td>    0.001</td> <td>  505.576</td> <td> 0.000</td> <td>    0.420</td> <td>    0.423</td>\n",
       "</tr>\n",
       "</table>\n",
       "<table class=\"simpletable\">\n",
       "<tr>\n",
       "  <th>Omnibus:</th>       <td>954.531</td> <th>  Durbin-Watson:     </th> <td>   0.483</td>\n",
       "</tr>\n",
       "<tr>\n",
       "  <th>Prob(Omnibus):</th> <td> 0.000</td>  <th>  Jarque-Bera (JB):  </th> <td>1650.477</td>\n",
       "</tr>\n",
       "<tr>\n",
       "  <th>Skew:</th>          <td>-0.349</td>  <th>  Prob(JB):          </th> <td>    0.00</td>\n",
       "</tr>\n",
       "<tr>\n",
       "  <th>Kurtosis:</th>      <td> 4.115</td>  <th>  Cond. No.          </th> <td>    11.1</td>\n",
       "</tr>\n",
       "</table><br/><br/>Notes:<br/>[1] Standard Errors assume that the covariance matrix of the errors is correctly specified."
      ],
      "text/latex": [
       "\\begin{center}\n",
       "\\begin{tabular}{lclc}\n",
       "\\toprule\n",
       "\\textbf{Dep. Variable:}    &     Z-Score      & \\textbf{  R-squared:         } &     0.918   \\\\\n",
       "\\textbf{Model:}            &       OLS        & \\textbf{  Adj. R-squared:    } &     0.918   \\\\\n",
       "\\textbf{Method:}           &  Least Squares   & \\textbf{  F-statistic:       } & 2.556e+05   \\\\\n",
       "\\textbf{Date:}             & Mon, 04 Dec 2023 & \\textbf{  Prob (F-statistic):} &     0.00    \\\\\n",
       "\\textbf{Time:}             &     23:17:05     & \\textbf{  Log-Likelihood:    } &   -4875.1   \\\\\n",
       "\\textbf{No. Observations:} &       22876      & \\textbf{  AIC:               } &     9754.   \\\\\n",
       "\\textbf{Df Residuals:}     &       22874      & \\textbf{  BIC:               } &     9770.   \\\\\n",
       "\\textbf{Df Model:}         &           1      & \\textbf{                     } &             \\\\\n",
       "\\textbf{Covariance Type:}  &    nonrobust     & \\textbf{                     } &             \\\\\n",
       "\\bottomrule\n",
       "\\end{tabular}\n",
       "\\begin{tabular}{lcccccc}\n",
       "                & \\textbf{coef} & \\textbf{std err} & \\textbf{t} & \\textbf{P$> |$t$|$} & \\textbf{[0.025} & \\textbf{0.975]}  \\\\\n",
       "\\midrule\n",
       "\\textbf{const}  &      -1.9291  &        0.004     &  -458.006  &         0.000        &       -1.937    &       -1.921     \\\\\n",
       "\\textbf{Answer} &       0.4217  &        0.001     &   505.576  &         0.000        &        0.420    &        0.423     \\\\\n",
       "\\bottomrule\n",
       "\\end{tabular}\n",
       "\\begin{tabular}{lclc}\n",
       "\\textbf{Omnibus:}       & 954.531 & \\textbf{  Durbin-Watson:     } &    0.483  \\\\\n",
       "\\textbf{Prob(Omnibus):} &   0.000 & \\textbf{  Jarque-Bera (JB):  } & 1650.477  \\\\\n",
       "\\textbf{Skew:}          &  -0.349 & \\textbf{  Prob(JB):          } &     0.00  \\\\\n",
       "\\textbf{Kurtosis:}      &   4.115 & \\textbf{  Cond. No.          } &     11.1  \\\\\n",
       "\\bottomrule\n",
       "\\end{tabular}\n",
       "%\\caption{OLS Regression Results}\n",
       "\\end{center}\n",
       "\n",
       "Notes: \\newline\n",
       " [1] Standard Errors assume that the covariance matrix of the errors is correctly specified."
      ],
      "text/plain": [
       "<class 'statsmodels.iolib.summary.Summary'>\n",
       "\"\"\"\n",
       "                            OLS Regression Results                            \n",
       "==============================================================================\n",
       "Dep. Variable:                Z-Score   R-squared:                       0.918\n",
       "Model:                            OLS   Adj. R-squared:                  0.918\n",
       "Method:                 Least Squares   F-statistic:                 2.556e+05\n",
       "Date:                Mon, 04 Dec 2023   Prob (F-statistic):               0.00\n",
       "Time:                        23:17:05   Log-Likelihood:                -4875.1\n",
       "No. Observations:               22876   AIC:                             9754.\n",
       "Df Residuals:                   22874   BIC:                             9770.\n",
       "Df Model:                           1                                         \n",
       "Covariance Type:            nonrobust                                         \n",
       "==============================================================================\n",
       "                 coef    std err          t      P>|t|      [0.025      0.975]\n",
       "------------------------------------------------------------------------------\n",
       "const         -1.9291      0.004   -458.006      0.000      -1.937      -1.921\n",
       "Answer         0.4217      0.001    505.576      0.000       0.420       0.423\n",
       "==============================================================================\n",
       "Omnibus:                      954.531   Durbin-Watson:                   0.483\n",
       "Prob(Omnibus):                  0.000   Jarque-Bera (JB):             1650.477\n",
       "Skew:                          -0.349   Prob(JB):                         0.00\n",
       "Kurtosis:                       4.115   Cond. No.                         11.1\n",
       "==============================================================================\n",
       "\n",
       "Notes:\n",
       "[1] Standard Errors assume that the covariance matrix of the errors is correctly specified.\n",
       "\"\"\""
      ]
     },
     "execution_count": 77,
     "metadata": {},
     "output_type": "execute_result"
    }
   ],
   "source": [
    "model.summary()"
   ]
  },
  {
   "cell_type": "code",
   "execution_count": 78,
   "metadata": {},
   "outputs": [
    {
     "data": {
      "text/plain": [
       "<Axes: xlabel='Answer', ylabel='Z-Score'>"
      ]
     },
     "execution_count": 78,
     "metadata": {},
     "output_type": "execute_result"
    },
    {
     "data": {
      "image/png": "[encoded data removed]",
      "text/plain": [
       "<Figure size 640x480 with 1 Axes>"
      ]
     },
     "metadata": {},
     "output_type": "display_data"
    }
   ],
   "source": [
    "data.plot.scatter(x = 'Answer', y = 'Z-Score')"
   ]
  },
  {
   "cell_type": "code",
   "execution_count": 93,
   "metadata": {},
   "outputs": [
    {
     "data": {
      "text/plain": [
       "<Axes: >"
      ]
     },
     "execution_count": 93,
     "metadata": {},
     "output_type": "execute_result"
    },
    {
     "data": {
      "image/png": "[encoded data removed]",
      "text/plain": [
       "<Figure size 640x480 with 1 Axes>"
      ]
     },
     "metadata": {},
     "output_type": "display_data"
    }
   ],
   "source": [
    "import seaborn as sns\n",
    "\n",
    "x = np.array(data['Answer'])\n",
    "y = np.array(data['Z-Score'])\n",
    "\n",
    "sns.regplot(x = x, y = y, color='violet', line_kws=dict(color='r')) "
   ]
  },
  {
   "cell_type": "markdown",
   "metadata": {},
   "source": [
    "моё лицо когда я поудаляла все столбцы кроме answer и z-score и прочитала задание 5 :///"
   ]
  },
  {
   "cell_type": "code",
   "execution_count": 144,
   "metadata": {},
   "outputs": [
    {
     "data": {
      "text/html": [
       "<div>\n",
       "<style scoped>\n",
       "    .dataframe tbody tr th:only-of-type {\n",
       "        vertical-align: middle;\n",
       "    }\n",
       "\n",
       "    .dataframe tbody tr th {\n",
       "        vertical-align: top;\n",
       "    }\n",
       "\n",
       "    .dataframe thead th {\n",
       "        text-align: right;\n",
       "    }\n",
       "</style>\n",
       "<table border=\"1\" class=\"dataframe\">\n",
       "  <thead>\n",
       "    <tr style=\"text-align: right;\">\n",
       "      <th></th>\n",
       "      <th>Item</th>\n",
       "      <th>Type</th>\n",
       "      <th>Group</th>\n",
       "      <th>Element</th>\n",
       "      <th>Controller</th>\n",
       "      <th>Word Number</th>\n",
       "      <th>Text</th>\n",
       "      <th>Sheet</th>\n",
       "      <th>Date Time</th>\n",
       "      <th>Timestamp</th>\n",
       "      <th>Device Id</th>\n",
       "      <th>Answer</th>\n",
       "      <th>Time Spent</th>\n",
       "      <th>Is Correct</th>\n",
       "      <th>Z-Score</th>\n",
       "      <th>Factor1</th>\n",
       "      <th>Factor2</th>\n",
       "      <th>Factor3</th>\n",
       "    </tr>\n",
       "  </thead>\n",
       "  <tbody>\n",
       "    <tr>\n",
       "      <th>0</th>\n",
       "      <td>11</td>\n",
       "      <td>stimul1_light_think_0</td>\n",
       "      <td>1</td>\n",
       "      <td>0</td>\n",
       "      <td>AcceptabilityJudgment</td>\n",
       "      <td>NaN</td>\n",
       "      <td>Дина думает, что Сева испачкал штаны.</td>\n",
       "      <td>0</td>\n",
       "      <td>25.05.2020 11:52</td>\n",
       "      <td>1590396746</td>\n",
       "      <td>588f4a3118f5ad5ae57d710af9510160</td>\n",
       "      <td>6.0</td>\n",
       "      <td>4564</td>\n",
       "      <td>NaN</td>\n",
       "      <td>0.764719</td>\n",
       "      <td>light</td>\n",
       "      <td>think</td>\n",
       "      <td>0.0</td>\n",
       "    </tr>\n",
       "    <tr>\n",
       "      <th>1</th>\n",
       "      <td>18</td>\n",
       "      <td>stimul1_light_say_1</td>\n",
       "      <td>2</td>\n",
       "      <td>0</td>\n",
       "      <td>AcceptabilityJudgment</td>\n",
       "      <td>NaN</td>\n",
       "      <td>Что Паша говорит, что Вера нашла?</td>\n",
       "      <td>0</td>\n",
       "      <td>25.05.2020 11:52</td>\n",
       "      <td>1590396746</td>\n",
       "      <td>588f4a3118f5ad5ae57d710af9510160</td>\n",
       "      <td>3.0</td>\n",
       "      <td>2405</td>\n",
       "      <td>NaN</td>\n",
       "      <td>-0.611775</td>\n",
       "      <td>light</td>\n",
       "      <td>say</td>\n",
       "      <td>1.0</td>\n",
       "    </tr>\n",
       "    <tr>\n",
       "      <th>2</th>\n",
       "      <td>25</td>\n",
       "      <td>stimul1_say_whisper_0</td>\n",
       "      <td>3</td>\n",
       "      <td>0</td>\n",
       "      <td>AcceptabilityJudgment</td>\n",
       "      <td>NaN</td>\n",
       "      <td>Митя шепчет, что Даша купила яблоки.</td>\n",
       "      <td>0</td>\n",
       "      <td>25.05.2020 11:52</td>\n",
       "      <td>1590396746</td>\n",
       "      <td>588f4a3118f5ad5ae57d710af9510160</td>\n",
       "      <td>3.0</td>\n",
       "      <td>3805</td>\n",
       "      <td>NaN</td>\n",
       "      <td>-0.611775</td>\n",
       "      <td>say</td>\n",
       "      <td>whisper</td>\n",
       "      <td>0.0</td>\n",
       "    </tr>\n",
       "    <tr>\n",
       "      <th>3</th>\n",
       "      <td>32</td>\n",
       "      <td>stimul1_say_babble_1</td>\n",
       "      <td>4</td>\n",
       "      <td>0</td>\n",
       "      <td>AcceptabilityJudgment</td>\n",
       "      <td>NaN</td>\n",
       "      <td>Что Федя лепечет, что Тоня продала?</td>\n",
       "      <td>0</td>\n",
       "      <td>25.05.2020 11:52</td>\n",
       "      <td>1590396746</td>\n",
       "      <td>588f4a3118f5ad5ae57d710af9510160</td>\n",
       "      <td>1.0</td>\n",
       "      <td>2424</td>\n",
       "      <td>NaN</td>\n",
       "      <td>-1.529438</td>\n",
       "      <td>say</td>\n",
       "      <td>babble</td>\n",
       "      <td>1.0</td>\n",
       "    </tr>\n",
       "    <tr>\n",
       "      <th>4</th>\n",
       "      <td>39</td>\n",
       "      <td>stimul1_factive_regret_0</td>\n",
       "      <td>5</td>\n",
       "      <td>0</td>\n",
       "      <td>AcceptabilityJudgment</td>\n",
       "      <td>NaN</td>\n",
       "      <td>Валя сожалеет, что Вова выпил молоко.</td>\n",
       "      <td>0</td>\n",
       "      <td>25.05.2020 11:52</td>\n",
       "      <td>1590396746</td>\n",
       "      <td>588f4a3118f5ad5ae57d710af9510160</td>\n",
       "      <td>6.0</td>\n",
       "      <td>6081</td>\n",
       "      <td>NaN</td>\n",
       "      <td>0.764719</td>\n",
       "      <td>factive</td>\n",
       "      <td>regret</td>\n",
       "      <td>0.0</td>\n",
       "    </tr>\n",
       "  </tbody>\n",
       "</table>\n",
       "</div>"
      ],
      "text/plain": [
       "   Item                      Type  Group  Element             Controller  \\\n",
       "0    11     stimul1_light_think_0      1        0  AcceptabilityJudgment   \n",
       "1    18       stimul1_light_say_1      2        0  AcceptabilityJudgment   \n",
       "2    25     stimul1_say_whisper_0      3        0  AcceptabilityJudgment   \n",
       "3    32      stimul1_say_babble_1      4        0  AcceptabilityJudgment   \n",
       "4    39  stimul1_factive_regret_0      5        0  AcceptabilityJudgment   \n",
       "\n",
       "   Word Number                                   Text  Sheet  \\\n",
       "0          NaN  Дина думает, что Сева испачкал штаны.      0   \n",
       "1          NaN      Что Паша говорит, что Вера нашла?      0   \n",
       "2          NaN   Митя шепчет, что Даша купила яблоки.      0   \n",
       "3          NaN    Что Федя лепечет, что Тоня продала?      0   \n",
       "4          NaN  Валя сожалеет, что Вова выпил молоко.      0   \n",
       "\n",
       "          Date Time   Timestamp                         Device Id  Answer  \\\n",
       "0  25.05.2020 11:52  1590396746  588f4a3118f5ad5ae57d710af9510160     6.0   \n",
       "1  25.05.2020 11:52  1590396746  588f4a3118f5ad5ae57d710af9510160     3.0   \n",
       "2  25.05.2020 11:52  1590396746  588f4a3118f5ad5ae57d710af9510160     3.0   \n",
       "3  25.05.2020 11:52  1590396746  588f4a3118f5ad5ae57d710af9510160     1.0   \n",
       "4  25.05.2020 11:52  1590396746  588f4a3118f5ad5ae57d710af9510160     6.0   \n",
       "\n",
       "   Time Spent  Is Correct   Z-Score  Factor1  Factor2  Factor3  \n",
       "0        4564         NaN  0.764719    light    think      0.0  \n",
       "1        2405         NaN -0.611775    light      say      1.0  \n",
       "2        3805         NaN -0.611775      say  whisper      0.0  \n",
       "3        2424         NaN -1.529438      say   babble      1.0  \n",
       "4        6081         NaN  0.764719  factive   regret      0.0  "
      ]
     },
     "execution_count": 144,
     "metadata": {},
     "output_type": "execute_result"
    }
   ],
   "source": [
    "data = pd.read_csv(r\"C:\\Users\\Maria\\Desktop\\Программирование_3 сем\\math\\data_hw4.csv\")\n",
    "data.head()"
   ]
  },
  {
   "cell_type": "code",
   "execution_count": 145,
   "metadata": {},
   "outputs": [],
   "source": [
    "data.drop(columns = ['Item', 'Type', 'Group', 'Element', 'Controller', \n",
    "'Word Number', 'Text', 'Sheet', 'Date Time', 'Timestamp', 'Device Id', \n",
    "'Time Spent', 'Factor2', 'Factor3', 'Is Correct'], axis = 1, inplace = True)"
   ]
  },
  {
   "cell_type": "code",
   "execution_count": 146,
   "metadata": {},
   "outputs": [],
   "source": [
    "data = data.dropna()"
   ]
  },
  {
   "cell_type": "code",
   "execution_count": 147,
   "metadata": {},
   "outputs": [
    {
     "name": "stdout",
     "output_type": "stream",
     "text": [
      "<class 'pandas.core.frame.DataFrame'>\n",
      "Index: 22876 entries, 0 to 23327\n",
      "Data columns (total 3 columns):\n",
      " #   Column   Non-Null Count  Dtype  \n",
      "---  ------   --------------  -----  \n",
      " 0   Answer   22876 non-null  float64\n",
      " 1   Z-Score  22876 non-null  float64\n",
      " 2   Factor1  22876 non-null  object \n",
      "dtypes: float64(2), object(1)\n",
      "memory usage: 714.9+ KB\n"
     ]
    }
   ],
   "source": [
    "data.info()"
   ]
  },
  {
   "cell_type": "code",
   "execution_count": 148,
   "metadata": {},
   "outputs": [
    {
     "name": "stdout",
     "output_type": "stream",
     "text": [
      "Answer\n",
      "[6. 3. 1. 7. 2. 5. 4.]\n",
      "Z-Score\n",
      "[ 0.76471911 -0.61177529 -1.52943823 ...  0.92757942 -1.25496039\n",
      "  0.49107145]\n",
      "Factor1\n",
      "['light' 'say' 'factive' '1' '0']\n"
     ]
    }
   ],
   "source": [
    "for c in data.columns:\n",
    "    print(c)\n",
    "    print(data[c].unique())"
   ]
  },
  {
   "cell_type": "code",
   "execution_count": 149,
   "metadata": {},
   "outputs": [],
   "source": [
    "data = data.loc[data['Factor1'] != '1']"
   ]
  },
  {
   "cell_type": "code",
   "execution_count": 150,
   "metadata": {},
   "outputs": [],
   "source": [
    "data = data.loc[data['Factor1'] != '0']"
   ]
  },
  {
   "cell_type": "code",
   "execution_count": 151,
   "metadata": {},
   "outputs": [
    {
     "data": {
      "text/plain": [
       "<Axes: title={'center': 'Answer'}, xlabel='Factor1'>"
      ]
     },
     "execution_count": 151,
     "metadata": {},
     "output_type": "execute_result"
    },
    {
     "data": {
      "image/png": "[encoded data removed]",
      "text/plain": [
       "<Figure size 640x480 with 1 Axes>"
      ]
     },
     "metadata": {},
     "output_type": "display_data"
    }
   ],
   "source": [
    "data.boxplot(column='Answer', by='Factor1')"
   ]
  },
  {
   "cell_type": "code",
   "execution_count": 152,
   "metadata": {},
   "outputs": [
    {
     "data": {
      "text/plain": [
       "<Axes: title={'center': 'Z-Score'}, xlabel='Factor1'>"
      ]
     },
     "execution_count": 152,
     "metadata": {},
     "output_type": "execute_result"
    },
    {
     "data": {
      "image/png": "[encoded data removed]",
      "text/plain": [
       "<Figure size 640x480 with 1 Axes>"
      ]
     },
     "metadata": {},
     "output_type": "display_data"
    }
   ],
   "source": [
    "data.boxplot(column='Z-Score', by='Factor1')"
   ]
  }
 ],
 "metadata": {
  "kernelspec": {
   "display_name": "Python 3",
   "language": "python",
   "name": "python3"
  },
  "language_info": {
   "codemirror_mode": {
    "name": "ipython",
    "version": 3
   },
   "file_extension": ".py",
   "mimetype": "text/x-python",
   "name": "python",
   "nbconvert_exporter": "python",
   "pygments_lexer": "ipython3",
   "version": "3.11.6"
  }
 },
 "nbformat": 4,
 "nbformat_minor": 2
}
